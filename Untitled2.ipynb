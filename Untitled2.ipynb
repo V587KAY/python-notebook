{
 "cells": [
  {
   "cell_type": "code",
   "execution_count": 1,
   "metadata": {},
   "outputs": [
    {
     "ename": "NameError",
     "evalue": "name '转义字符' is not defined",
     "output_type": "error",
     "traceback": [
      "\u001b[0;31m---------------------------------------------------------------------------\u001b[0m",
      "\u001b[0;31mNameError\u001b[0m                                 Traceback (most recent call last)",
      "\u001b[0;32m<ipython-input-1-af8da8a46183>\u001b[0m in \u001b[0;36m<module>\u001b[0;34m()\u001b[0m\n\u001b[0;32m----> 1\u001b[0;31m \u001b[0m转义字符\u001b[0m\u001b[0;34m\u001b[0m\u001b[0m\n\u001b[0m\u001b[1;32m      2\u001b[0m \u001b[0m格式化\u001b[0m\u001b[0;34m\u001b[0m\u001b[0m\n\u001b[1;32m      3\u001b[0m \u001b[0m内建函数\u001b[0m\u001b[0;34m\u001b[0m\u001b[0m\n",
      "\u001b[0;31mNameError\u001b[0m: name '转义字符' is not defined"
     ]
    }
   ],
   "source": [
    "转义字符\n",
    "格式化\n",
    "内建函数\n"
   ]
  },
  {
   "cell_type": "code",
   "execution_count": 4,
   "metadata": {},
   "outputs": [
    {
     "name": "stdout",
     "output_type": "stream",
     "text": [
      "i love wangxiaojing\n"
     ]
    }
   ],
   "source": [
    "s='i love wangxiaojing'\n",
    "print(s)"
   ]
  },
  {
   "cell_type": "code",
   "execution_count": 11,
   "metadata": {},
   "outputs": [
    {
     "name": "stdout",
     "output_type": "stream",
     "text": [
      "let's go\n",
      "let's go!!!\n",
      "c:\\user\n",
      "i love you \r\n",
      " i really do\n"
     ]
    }
   ],
   "source": [
    "#反斜杠代表转义\n",
    "s=\"let's go\"\n",
    "print(s)\n",
    "ss='let\\'s go!!!'\n",
    "print(ss)\n",
    "\n",
    "sss='c:\\\\user'\n",
    "print(sss)\n",
    "\n",
    "#  \\'= '\n",
    "#  \\\\=\\\n",
    "\n",
    "\n",
    "#回车换行\n",
    "s1='i love you \\r\\n i really do'\n",
    "print(s1)\n",
    "\n",
    "# - windows:  \\n   Linux:  \\r\\n"
   ]
  },
  {
   "cell_type": "markdown",
   "metadata": {},
   "source": [
    "# 格式化\n",
    "- 按照一定的格式打印或者填充\n",
    "- 格式化有两种方法\n",
    "  - 利用百分号  （%表示一个特殊的含义，表示对字符进行格式化）\n",
    "    - %d 此处应该放入一个整数\n",
    "    - %s 此处应该放入一个字符串\n",
    "  - 利用format函数"
   ]
  },
  {
   "cell_type": "code",
   "execution_count": 26,
   "metadata": {},
   "outputs": [
    {
     "name": "stdout",
     "output_type": "stream",
     "text": [
      "Kay，晚上好，今天是2018年7月8日，晚上6点51分，目前天气多云转晴。\n",
      "KKKAAAYYY，晚上好，今天是2018年7月8日，晚上6点51分，目前天气多云转晴。\n"
     ]
    }
   ],
   "source": [
    "x='%s，晚上好，今天是2018年7月8日，晚上6点51分，目前天气多云转晴。'\n",
    "m='%s，晚上好，今天是2018年7月8日，晚上6点51分，目前天气多云转晴。'%'Kay'\n",
    "print(m)\n",
    "print(x%'KKKAAAYYY')"
   ]
  },
  {
   "cell_type": "code",
   "execution_count": 28,
   "metadata": {},
   "outputs": [
    {
     "name": "stdout",
     "output_type": "stream",
     "text": [
      "i am %d years old\n",
      "i am 18 years old\n"
     ]
    }
   ],
   "source": [
    "A='i am %d years old'\n",
    "print(A)\n",
    "print(A%18)"
   ]
  },
  {
   "cell_type": "code",
   "execution_count": 31,
   "metadata": {},
   "outputs": [
    {
     "name": "stdout",
     "output_type": "stream",
     "text": [
      "i am %s,i am %d years old\n",
      "i am Kay,i am 24 years old\n"
     ]
    }
   ],
   "source": [
    "b='i am %s,i am %d years old'  #两个%就表示需要两个实际内容替换\n",
    "print(b)\n",
    "print(b%('Kay',24))"
   ]
  },
  {
   "cell_type": "code",
   "execution_count": 32,
   "metadata": {
    "collapsed": true
   },
   "outputs": [],
   "source": [
    "# format函数\n",
    "# - 用{} :  %  后面接format带参数完成\n"
   ]
  },
  {
   "cell_type": "code",
   "execution_count": 36,
   "metadata": {},
   "outputs": [
    {
     "name": "stdout",
     "output_type": "stream",
     "text": [
      "i love Kay\n",
      "i love Kay, i don't love UUU ,Kay is the best!!!\n"
     ]
    }
   ],
   "source": [
    "c='i love {}'.format('Kay')\n",
    "print(c)\n",
    "c='i love {1}, i don\\'t love {0} ,{1} is the best!!!'.format('UUU','Kay')\n",
    "print(c)"
   ]
  },
  {
   "cell_type": "markdown",
   "metadata": {},
   "source": [
    "# None \n",
    "- 表示什么也没有\n",
    "- 没有返回值可一返回None\n",
    "- 用来占位置\n",
    "- 用来接触变量绑定\n"
   ]
  },
  {
   "cell_type": "markdown",
   "metadata": {},
   "source": [
    "# 表达式\n",
    "- 由一个或者几个数字或者变量和运算符组合成的一行代码\n",
    "- 通常会返回一个结果\n",
    "# 运算符\n",
    "- 由一个以上的值经过变化得到的新值的过程就叫运算\n",
    "- 运算符分类\n",
    "  - 算数运算符\n",
    "  - 比较或者关系运算符\n",
    "  - 位运算\n",
    "  - 成员运算符\n",
    "  - 逻辑运算符\n",
    "  - 赋值运算符\n",
    "  - 身份运算符\n",
    "  "
   ]
  },
  {
   "cell_type": "markdown",
   "metadata": {},
   "source": [
    "# 算数运算符\n",
    "- 加+ \n",
    "- 减-\n",
    "- 乘* \n",
    "- 除/"
   ]
  },
  {
   "cell_type": "code",
   "execution_count": 44,
   "metadata": {},
   "outputs": [
    {
     "name": "stdout",
     "output_type": "stream",
     "text": [
      "10\n",
      "36\n",
      "2.25\n",
      "2.25\n",
      "1\n",
      "2\n",
      "6561\n"
     ]
    }
   ],
   "source": [
    "a=9+3-2\n",
    "print(a)\n",
    "print(9*4)\n",
    "a=9/4\n",
    "print(a)\n",
    "print(a)\n",
    "\n",
    "#取余数\n",
    "n=9%4\n",
    "print(n)\n",
    "\n",
    "#取整数(商) 地板除\n",
    "m=9//4\n",
    "print(m)\n",
    "\n",
    "#幂运算\n",
    "z=9**4 #9的4次方\n",
    "print(z)"
   ]
  },
  {
   "cell_type": "markdown",
   "metadata": {},
   "source": [
    "# 比较运算符\n",
    "- 对两个变量或者值进行比较的运算符\n",
    "- 比较的结果是布尔值，True or False"
   ]
  },
  {
   "cell_type": "code",
   "execution_count": 48,
   "metadata": {},
   "outputs": [
    {
     "name": "stdout",
     "output_type": "stream",
     "text": [
      "False\n",
      "True\n"
     ]
    }
   ],
   "source": [
    "# ==  等于\n",
    "a=3**4\n",
    "b=a==80  #先从右边开始计算 a等不等于80，然后结果的布尔值放在b中，\n",
    "print(b)\n",
    "\n",
    "# ！ 不等于\n",
    "print(9!=8)\n",
    "\n",
    "# >大于\n",
    "# <小于\n",
    "# >=大于等于\n",
    "# <=小于等于\n"
   ]
  },
  {
   "cell_type": "markdown",
   "metadata": {},
   "source": [
    "# 赋值运算符\n"
   ]
  },
  {
   "cell_type": "code",
   "execution_count": 66,
   "metadata": {},
   "outputs": [
    {
     "name": "stdout",
     "output_type": "stream",
     "text": [
      "9\n",
      "12\n"
     ]
    }
   ],
   "source": [
    "# = 赋值\n",
    "a=0\n",
    "b=a=9\n",
    "print(a)\n",
    "\n",
    "# += 缩写\n",
    "\n",
    "c=3\n",
    "c+=9 # c=c+9\n",
    "print(c)\n",
    "\n",
    "#同理所有的数学运算符都有缩写形式\n",
    "\n",
    "# -=    *=    /=    //=   %=   **="
   ]
  },
  {
   "cell_type": "markdown",
   "metadata": {},
   "source": [
    "# 逻辑运算符\n",
    "- 对布尔值进行计算的符号。\n",
    "- and 逻辑与 乘法\n",
    "- or 逻辑或  加法\n",
    "- not 逻辑非 \n",
    "- 运算规则：\n",
    "  - and看做乘法，or看做加法，\n",
    "  - True看做1 ， Flase看做0\n",
    "  - 这样逻辑运算就能转换成整数数学运算\n",
    "  - 最后结果是0就是Flase 否则为True\n",
    "- 逻辑运算短路\n",
    "  - 逻辑运算式，按照运算顺序计算，一旦能够确定整个式子未来的值，则不在计算，直接返回。"
   ]
  },
  {
   "cell_type": "code",
   "execution_count": 70,
   "metadata": {},
   "outputs": [
    {
     "name": "stdout",
     "output_type": "stream",
     "text": [
      "True\n",
      "True\n"
     ]
    }
   ],
   "source": [
    "a=True\n",
    "b=False\n",
    "c=True\n",
    "\n",
    "d=a and b or c\n",
    "print(d)\n",
    "\n",
    "e=a or c or d\n",
    "print(e)"
   ]
  },
  {
   "cell_type": "code",
   "execution_count": 72,
   "metadata": {},
   "outputs": [
    {
     "name": "stdout",
     "output_type": "stream",
     "text": [
      "True\n"
     ]
    }
   ],
   "source": [
    "#短路\n",
    "\n",
    "a=True or a\n",
    "print(a)\n"
   ]
  },
  {
   "cell_type": "markdown",
   "metadata": {},
   "source": [
    "# 成员运算符号\n",
    "\n",
    "- 用啦检测一个变量是否是另一个变量的成员\n",
    "- in \n",
    "- not in\n"
   ]
  },
  {
   "cell_type": "code",
   "execution_count": 76,
   "metadata": {},
   "outputs": [
    {
     "name": "stdout",
     "output_type": "stream",
     "text": [
      "False\n",
      "False\n",
      "True\n"
     ]
    }
   ],
   "source": [
    "l = [1,2,3,4,5,6]\n",
    "a = 7\n",
    "\n",
    "b=a in l\n",
    "print(b)\n",
    "print(a in l)\n",
    "print(a not in l)"
   ]
  },
  {
   "cell_type": "markdown",
   "metadata": {},
   "source": [
    "# 身份运算符\n",
    "- is：用来检测两个变量是不是同一个变量（未必是值相等）\n",
    "  - 语法就是 var1 is var2\n",
    "- is not： 两个变量不是同一个变量\n",
    "\n"
   ]
  },
  {
   "cell_type": "code",
   "execution_count": 83,
   "metadata": {},
   "outputs": [
    {
     "name": "stdout",
     "output_type": "stream",
     "text": [
      "True\n",
      "True\n"
     ]
    }
   ],
   "source": [
    "a=9\n",
    "b=9\n",
    "print(a is b)\n",
    "\n",
    "a=\"XYZ\"\n",
    "b=\"XYZ\"\n",
    "print(a is b)"
   ]
  },
  {
   "cell_type": "markdown",
   "metadata": {},
   "source": [
    "# 运算符的优先级问题\n",
    "- 括号具有最高优先级\n",
    "- 优先级表格\n",
    "\n",
    "\n",
    "        **  指数 (最高优先级)\n",
    "        ~ + -   按位翻转, 一元加号和减号 (最后两个的方法名为 +@ 和 -@)\n",
    "        * / % //    乘，除，取模和取整除\n",
    "        + - 加法减法\n",
    "        >> <<   右移，左移运算符\n",
    "        &   位 'AND'\n",
    "        ^ | 位运算符\n",
    "        <= < > >=   比较运算符\n",
    "        <> == !=    等于运算符\n",
    "        = %= /= //= -= += *= **=    赋值运算符\n",
    "        is is not   身份运算符\n",
    "        in not in   成员运算符\n",
    "        not or and  逻辑运算符"
   ]
  },
  {
   "cell_type": "markdown",
   "metadata": {},
   "source": [
    "# 程序结构\n",
    "- 顺序\n",
    "- 分支\n",
    "- 循环\n",
    "\n"
   ]
  },
  {
   "cell_type": "code",
   "execution_count": null,
   "metadata": {
    "collapsed": true
   },
   "outputs": [],
   "source": []
  }
 ],
 "metadata": {
  "kernelspec": {
   "display_name": "Python 3",
   "language": "python",
   "name": "python3"
  },
  "language_info": {
   "codemirror_mode": {
    "name": "ipython",
    "version": 3
   },
   "file_extension": ".py",
   "mimetype": "text/x-python",
   "name": "python",
   "nbconvert_exporter": "python",
   "pygments_lexer": "ipython3",
   "version": "3.6.3"
  }
 },
 "nbformat": 4,
 "nbformat_minor": 2
}
