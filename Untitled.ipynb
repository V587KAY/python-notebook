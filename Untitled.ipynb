{
 "cells": [
  {
   "cell_type": "code",
   "execution_count": 12,
   "metadata": {},
   "outputs": [
    {
     "name": "stdout",
     "output_type": "stream",
     "text": [
      "hello! please input your name....\n",
      "your name....\n",
      "123\n",
      "hello!please input your age....\n",
      "123\n",
      "dajiji\n"
     ]
    }
   ],
   "source": [
    "print('hello! please input your name....')  #输入你的姓名\n",
    "print('your name....')\n",
    "name=input()\n",
    "print('hello!please input your age....')\n",
    "age=input()\n",
    "age=int(age)\n",
    "if age >= 18:\n",
    "    print('dajiji')\n",
    "else:\n",
    "    print('you are xiaojiji')"
   ]
  },
  {
   "cell_type": "code",
   "execution_count": null,
   "metadata": {
    "collapsed": true
   },
   "outputs": [],
   "source": []
  },
  {
   "cell_type": "markdown",
   "metadata": {},
   "source": [
    "# 变量\n",
    "- 程序=数据结构+算法\n",
    "- 变量就是可以重复使用的一个量\n",
    "- 变量命名的规则\n",
    "    - 明规矩\n",
    "    - 暗规矩\n",
    "    - 不能以数字开头\n",
    "        - 4man 5ffo ×\n",
    "        - man4 ffo5 √\n",
    "    - 不建议使用下划线开头的变量\n",
    "        - _age ×\n",
    "    - _posix命名规则\n",
    "    - 驼峰命名法"
   ]
  },
  {
   "cell_type": "code",
   "execution_count": 1,
   "metadata": {},
   "outputs": [
    {
     "name": "stdout",
     "output_type": "stream",
     "text": [
      "18\n",
      "18\n"
     ]
    }
   ],
   "source": [
    "# 变量生命\n",
    "age=18\n",
    "print(age)\n",
    "print(18)"
   ]
  },
  {
   "cell_type": "code",
   "execution_count": 4,
   "metadata": {},
   "outputs": [
    {
     "name": "stdout",
     "output_type": "stream",
     "text": [
      "13\n"
     ]
    }
   ],
   "source": [
    "age4,age5,age6=13,23,45\n",
    "print(age4)"
   ]
  },
  {
   "cell_type": "code",
   "execution_count": 13,
   "metadata": {},
   "outputs": [
    {
     "name": "stdout",
     "output_type": "stream",
     "text": [
      "65\n",
      "11\n",
      "0b1011\n"
     ]
    }
   ],
   "source": [
    "# number 数字类型\n",
    "age=(0o101)\n",
    "print(age)\n",
    "e=(0b1011)\n",
    "print(e)\n",
    "\n",
    "e2='0b1011'\n",
    "print(e2)"
   ]
  },
  {
   "cell_type": "markdown",
   "metadata": {},
   "source": [
    "#布尔值\n",
    "\n"
   ]
  },
  {
   "cell_type": "code",
   "execution_count": 16,
   "metadata": {},
   "outputs": [
    {
     "name": "stdout",
     "output_type": "stream",
     "text": [
      "19\n"
     ]
    }
   ],
   "source": [
    "age=18+True #在这里 Ture表示为数字1\n",
    "print(age)"
   ]
  },
  {
   "cell_type": "code",
   "execution_count": 17,
   "metadata": {},
   "outputs": [
    {
     "ename": "NameError",
     "evalue": "name '用来表示一串文字信息' is not defined",
     "output_type": "error",
     "traceback": [
      "\u001b[0;31m---------------------------------------------------------------------------\u001b[0m",
      "\u001b[0;31mNameError\u001b[0m                                 Traceback (most recent call last)",
      "\u001b[0;32m<ipython-input-17-7e21e0e873af>\u001b[0m in \u001b[0;36m<module>\u001b[0;34m()\u001b[0m\n\u001b[1;32m      1\u001b[0m \u001b[0;31m# 字符串、\u001b[0m\u001b[0;34m\u001b[0m\u001b[0;34m\u001b[0m\u001b[0m\n\u001b[0;32m----> 2\u001b[0;31m \u001b[0;34m-\u001b[0m \u001b[0m用来表示一串文字信息\u001b[0m\u001b[0;34m\u001b[0m\u001b[0m\n\u001b[0m",
      "\u001b[0;31mNameError\u001b[0m: name '用来表示一串文字信息' is not defined"
     ]
    }
   ],
   "source": [
    "# 字符串、\n",
    "- 用来表示一串文字信息\n"
   ]
  },
  {
   "cell_type": "code",
   "execution_count": 21,
   "metadata": {},
   "outputs": [
    {
     "name": "stdout",
     "output_type": "stream",
     "text": [
      "我爱你\n",
      "12\n",
      "\n",
      "sdf asdf \n",
      "asdfasdfajskdf\n",
      "asd\n",
      "fa\n",
      "sdf\n",
      "asd\n",
      "fa\n",
      "sdf\n",
      "asdf\n"
     ]
    }
   ],
   "source": [
    "love='我爱你'\n",
    "print(love)\n",
    "\n",
    "love='12'\n",
    "print(love)\n",
    "\n",
    "jkjk='''\n",
    "sdf asdf \n",
    "asdfasdfajskdf\n",
    "asd\n",
    "fa\n",
    "sdf\n",
    "asd\n",
    "fa\n",
    "sdf\n",
    "asdf'''\n",
    "print(jkjk)\n"
   ]
  }
 ],
 "metadata": {
  "kernelspec": {
   "display_name": "Python 3",
   "language": "python",
   "name": "python3"
  },
  "language_info": {
   "codemirror_mode": {
    "name": "ipython",
    "version": 3
   },
   "file_extension": ".py",
   "mimetype": "text/x-python",
   "name": "python",
   "nbconvert_exporter": "python",
   "pygments_lexer": "ipython3",
   "version": "3.6.3"
  }
 },
 "nbformat": 4,
 "nbformat_minor": 2
}
